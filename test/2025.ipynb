{
 "cells": [
  {
   "cell_type": "code",
   "execution_count": 2,
   "id": "10f8532b",
   "metadata": {},
   "outputs": [],
   "source": [
    "import pandas as pd\n",
    "from pathlib import Path\n",
    "from sklearn.model_selection import train_test_split"
   ]
  },
  {
   "cell_type": "code",
   "execution_count": 4,
   "id": "3e627888",
   "metadata": {},
   "outputs": [],
   "source": [
    "\n",
    "df = pd.read_csv(\"../data/case_item_1023(in).csv\")"
   ]
  },
  {
   "cell_type": "code",
   "execution_count": 3,
   "id": "41805340",
   "metadata": {},
   "outputs": [
    {
     "data": {
      "text/plain": [
       "<Axes: title={'center': 'Monthly Case Submitted Distribution'}, xlabel='month'>"
      ]
     },
     "execution_count": 3,
     "metadata": {},
     "output_type": "execute_result"
    },
    {
     "data": {
      "image/png": "[encoded data removed]",
      "text/plain": [
       "<Figure size 1200x600 with 1 Axes>"
      ]
     },
     "metadata": {},
     "output_type": "display_data"
    }
   ],
   "source": [
    "df[\"case_submitted_date\"].value_counts()\n",
    "# 按照月份绘制柱状图\n",
    "df['month'] = pd.to_datetime(df['case_submitted_date']).dt.to_period('M')\n",
    "monthly_counts = df['month'].value_counts().sort_index()\n",
    "monthly_counts.plot(kind='bar', figsize=(12, 6), title='Monthly Case Submitted Distribution')"
   ]
  },
  {
   "cell_type": "code",
   "execution_count": 8,
   "id": "f171690f",
   "metadata": {},
   "outputs": [
    {
     "data": {
      "text/plain": [
       "(119989, 10)"
      ]
     },
     "execution_count": 8,
     "metadata": {},
     "output_type": "execute_result"
    }
   ],
   "source": [
    "df.shape"
   ]
  },
  {
   "cell_type": "code",
   "execution_count": 5,
   "id": "8211dc65",
   "metadata": {},
   "outputs": [
    {
     "data": {
      "text/plain": [
       "(119989, 8)"
      ]
     },
     "execution_count": 5,
     "metadata": {},
     "output_type": "execute_result"
    }
   ],
   "source": [
    "df = df.drop(columns=['Unnamed: 0'])\n",
    "duplicate_rows = df[df.duplicated()]\n",
    "df.shape"
   ]
  },
  {
   "cell_type": "code",
   "execution_count": 6,
   "id": "5eb426bf",
   "metadata": {},
   "outputs": [],
   "source": [
    "df['case_submitted_date'] = pd.to_datetime(df['case_submitted_date'])\n",
    "unknown_item_df = df[df['linked_items'].isnull()]\n",
    "unknown_item_df.to_csv(\"../output/2025_unknown.csv\", index=False)\n",
    "df = df.drop(unknown_item_df.index)\n",
    "# df"
   ]
  },
  {
   "cell_type": "code",
   "execution_count": 11,
   "id": "c2922089",
   "metadata": {},
   "outputs": [
    {
     "data": {
      "text/plain": [
       "(22784, 9)"
      ]
     },
     "execution_count": 11,
     "metadata": {},
     "output_type": "execute_result"
    }
   ],
   "source": [
    "unknown_item_df.shape"
   ]
  },
  {
   "cell_type": "code",
   "execution_count": 7,
   "id": "ad8cd899",
   "metadata": {},
   "outputs": [],
   "source": [
    "\n",
    "\n",
    "\n",
    "# 构造一批train,eval,test\n",
    "# 拿123456训练，预测7\n",
    "# 拿1234567训练，预测8\n",
    "# 拿12345678训练，预测9\n",
    "# 拿123456789训练，预测10\n",
    "\n",
    "test_points = [\n",
    "    {\"train\": [1, 2, 3, 4, 5, 6], \"test\": 7},\n",
    "    {\"train\": [1, 2, 3, 4, 5, 6, 7], \"test\": 8},\n",
    "    {\"train\": [1, 2, 3, 4, 5, 6, 7, 8], \"test\": 9},\n",
    "    {\"train\": [1, 2, 3, 4, 5, 6, 7, 8, 9], \"test\": 10},\n",
    "]\n",
    "\n",
    "# 按照月份对df进行划分\n",
    "df['month'] = pd.to_datetime(df['case_submitted_date']).dt.to_period('M')\n",
    "month_groups = df.groupby('month')\n",
    "\n",
    "\n",
    "for point in test_points:\n",
    "    train_months = point['train']\n",
    "    test_month = point['test']\n",
    "    \n",
    "    train_df = pd.concat([month_groups.get_group(month) for month in month_groups.groups if month.month in train_months])\n",
    "    test_df = month_groups.get_group(next(month for month in month_groups.groups if month.month == test_month))\n",
    "    \n",
    "    # 确保输出目录存在\n",
    "    out_dir = Path(f\"../output/2025_up_to_month_{test_month}\")\n",
    "    out_dir.mkdir(parents=True, exist_ok=True)\n",
    "\n",
    "    # 按标签分层切分 train -> train/eval\n",
    "    eval_size = 0.2\n",
    "    try:\n",
    "        tr_df, ev_df = train_test_split(\n",
    "            train_df,\n",
    "            test_size=eval_size,\n",
    "            random_state=42,\n",
    "            stratify=train_df['linked_items'].astype(str)\n",
    "        )\n",
    "    except ValueError:\n",
    "        # 某些类别样本过少导致分层失败，退化为非分层\n",
    "        tr_df, ev_df = train_test_split(\n",
    "            train_df,\n",
    "            test_size=eval_size,\n",
    "            random_state=42,\n",
    "            shuffle=True\n",
    "        )\n",
    "\n",
    "    # 保存文件\n",
    "    tr_df.to_csv(out_dir / \"train.csv\", index=False)\n",
    "    ev_df.to_csv(out_dir / \"eval.csv\", index=False)\n",
    "    test_df.to_csv(out_dir / \"test.csv\", index=False)\n"
   ]
  },
  {
   "cell_type": "code",
   "execution_count": null,
   "id": "97220545",
   "metadata": {},
   "outputs": [],
   "source": []
  }
 ],
 "metadata": {
  "kernelspec": {
   "display_name": "beacon",
   "language": "python",
   "name": "python3"
  },
  "language_info": {
   "codemirror_mode": {
    "name": "ipython",
    "version": 3
   },
   "file_extension": ".py",
   "mimetype": "text/x-python",
   "name": "python",
   "nbconvert_exporter": "python",
   "pygments_lexer": "ipython3",
   "version": "3.13.7"
  }
 },
 "nbformat": 4,
 "nbformat_minor": 5
}
