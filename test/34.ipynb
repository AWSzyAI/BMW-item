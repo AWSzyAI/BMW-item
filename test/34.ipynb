{
 "cells": [
  {
   "cell_type": "markdown",
   "id": "495139e7",
   "metadata": {},
   "source": [
    "拿到了新的5,6月份的数据`../data/test_data1020.csv`。\n",
    "先那之前的7，8月份数据训练出来的模型用predict.py预测一下，跑出来所有指标都是0，怀疑是新的数据中的y和老的标签不一致。"
   ]
  },
  {
   "cell_type": "code",
   "execution_count": 1,
   "id": "87ff216a",
   "metadata": {},
   "outputs": [
    {
     "name": "stdout",
     "output_type": "stream",
     "text": [
      "Imported predict from src.predict\n"
     ]
    }
   ],
   "source": [
    "# Make project root importable when running this notebook from the 'test' folder\n",
    "import sys, os\n",
    "# Add the parent directory (project root) to sys.path so 'from src...` imports work\n",
    "root = os.path.abspath(os.path.join(os.getcwd(), '..'))\n",
    "if root not in sys.path:\n",
    "    sys.path.insert(0, root)\n",
    "import importlib\n",
    "\n",
    "import src.predict as _predict_mod\n",
    "importlib.reload(_predict_mod)\n",
    "predict = _predict_mod.predict\n",
    "print('Imported predict from src.predict')\n",
    "\n",
    "from sklearn.metrics import accuracy_score, f1_score\n",
    "from sklearn.model_selection import StratifiedKFold\n",
    "import pandas as pd\n",
    "import ast\n",
    "import numpy as np\n"
   ]
  },
  {
   "cell_type": "code",
   "execution_count": 2,
   "id": "2ecdaeb6",
   "metadata": {},
   "outputs": [
    {
     "name": "stdout",
     "output_type": "stream",
     "text": [
      "raw rows: 8639\n",
      "dedup by case_id: 8639 -> 2207 rows\n"
     ]
    }
   ],
   "source": [
    "# Load CSV\n",
    "df_1020 = pd.read_csv(\"../data/test_data1020_34.csv\")\n",
    "# drop accidental index column if present\n",
    "if 'Unnamed: 0' in df_1020.columns:\n",
    "    df_1020 = df_1020.drop(columns=['Unnamed: 0'])\n",
    "print('raw rows:', len(df_1020))\n",
    "# Deduplicate by case_id (keep first occurrence)\n",
    "if 'case_id' in df_1020.columns:\n",
    "    before = len(df_1020)\n",
    "    df_1020 = df_1020.drop_duplicates(subset=['case_id'], keep='first')\n",
    "    after = len(df_1020)\n",
    "    print(f'dedup by case_id: {before} -> {after} rows')\n",
    "else:\n",
    "    print('case_id column not found; skipping case_id dedup')\n"
   ]
  },
  {
   "cell_type": "markdown",
   "id": "ec55aab6",
   "metadata": {},
   "source": [
    "新数据有7323行，但是根据case_id去掉重复的数据后其实只有2718行，这么大量的重复到底是怎么造成的？我们拿着去重后的数据分析一下标签extern_id 和 linked_items的情况"
   ]
  },
  {
   "cell_type": "code",
   "execution_count": 3,
   "id": "be909672",
   "metadata": {},
   "outputs": [],
   "source": [
    "# ---- 1) 统一把 linked_items 解析成 list ----\n",
    "def to_list(x):\n",
    "    if isinstance(x, list):\n",
    "        return x\n",
    "    if pd.isna(x):\n",
    "        return []\n",
    "    if isinstance(x, str):\n",
    "        # 兼容 '[\"A\",\"B\"]' 或 \"['A','B']\" 等字符串\n",
    "        try:\n",
    "            v = ast.literal_eval(x)\n",
    "            return v if isinstance(v, list) else [v]\n",
    "        except Exception:\n",
    "            return [x]\n",
    "    return [x]\n",
    "\n",
    "df_1020[\"linked_items\"] = df_1020[\"linked_items\"].apply(to_list)"
   ]
  },
  {
   "cell_type": "code",
   "execution_count": 4,
   "id": "c74d7d85",
   "metadata": {},
   "outputs": [
    {
     "name": "stdout",
     "output_type": "stream",
     "text": [
      "展开后样本数: 2423, 类别数: 228\n"
     ]
    }
   ],
   "source": [
    "# ---- 2) explode：一行一个标签（解决 list 不可哈希问题）----\n",
    "# 将列表\"linked_items\"展开，那不就相当于直接用extern_id吗？\n",
    "\n",
    "df_exp = df_1020.explode(\"linked_items\").reset_index(drop=True)\n",
    "\n",
    "# 统一成字符串，避免 123 vs \"123\" 的类型不一致\n",
    "df_exp[\"linked_items\"] = df_exp[\"linked_items\"].astype(str).str.strip()\n",
    "\n",
    "# 现在可以安全统计\n",
    "total_samples = len(df_exp)\n",
    "num_classes = df_exp[\"linked_items\"].nunique()\n",
    "print(f\"展开后样本数: {total_samples}, 类别数: {num_classes}\")"
   ]
  },
  {
   "cell_type": "code",
   "execution_count": 5,
   "id": "9e3dc254",
   "metadata": {},
   "outputs": [
    {
     "data": {
      "text/plain": [
       "linked_items\n",
       "48345    191\n",
       "48901    149\n",
       "48349     97\n",
       "48327     79\n",
       "48380     71\n",
       "        ... \n",
       "48347      1\n",
       "49011      1\n",
       "51248      1\n",
       "48879      1\n",
       "36466      1\n",
       "Name: count, Length: 228, dtype: int64"
      ]
     },
     "execution_count": 5,
     "metadata": {},
     "output_type": "execute_result"
    }
   ],
   "source": [
    "df_exp[\"linked_items\"].value_counts()"
   ]
  },
  {
   "cell_type": "code",
   "execution_count": 7,
   "id": "8e147111",
   "metadata": {},
   "outputs": [
    {
     "name": "stdout",
     "output_type": "stream",
     "text": [
      "原始类别数: 228 -> 过滤后类别数: 228\n",
      "原始样本数(展开): 2423 -> 过滤后样本数: 2423\n"
     ]
    }
   ],
   "source": [
    "# ---- 3) 过滤掉样本数 <5 的类别，保证 5-fold 可用 ----\n",
    "counts = df_exp[\"linked_items\"].value_counts()\n",
    "valid_items = counts[counts >= 5].index\n",
    "\n",
    "# 不过滤\n",
    "df_filtered = df_exp\n",
    "df_filtered.to_csv(\"../output/df_1020_34.csv\")\n",
    "\n",
    "df_filtered_1020_5 = df_exp[df_exp[\"linked_items\"].isin(valid_items)].reset_index(drop=True)\n",
    "df_filtered_1020_5.to_csv(\"../output/df_filtered_data1020_34.csv\")\n",
    "\n",
    "print(f\"原始类别数: {num_classes} -> 过滤后类别数: {df_filtered['linked_items'].nunique()}\")\n",
    "print(f\"原始样本数(展开): {total_samples} -> 过滤后样本数: {len(df_filtered)}\")\n",
    "\n",
    "\n"
   ]
  },
  {
   "cell_type": "code",
   "execution_count": 115,
   "id": "9b771280",
   "metadata": {},
   "outputs": [],
   "source": [
    "# 参考eval.py，对没有划分train，test，eval的df_filtered_1020.csv全部视作为test进行评估"
   ]
  },
  {
   "cell_type": "code",
   "execution_count": 8,
   "id": "1dbd167b",
   "metadata": {},
   "outputs": [
    {
     "name": "stdout",
     "output_type": "stream",
     "text": [
      "Loaded test file: ..\\output\\df_filtered_data1020_34.csv rows: 2207\n",
      "Samples with non-empty true_label: 2207 / 2207\n",
      "Using model: ..\\output\\model_best.joblib\n"
     ]
    },
    {
     "name": "stderr",
     "output_type": "stream",
     "text": [
      "Predict batches: 100%|██████████| 9/9 [00:09<00:00,  1.11s/it]\n"
     ]
    },
    {
     "name": "stdout",
     "output_type": "stream",
     "text": [
      "\n",
      "Metrics on df_filtered test (n=2207 samples, valid true labels=2207):\n",
      "  Accuracy (top1): 0.016765\n",
      "  Weighted F1 (top1): 0.023238\n",
      "  hit@1: 0.016765, hit@3: 0.038514, hit@5: 0.038514, hit@10: 0.038514\n",
      "Predictions saved to: ..\\output\\predictions_df_filtered_1020.csv\n"
     ]
    }
   ],
   "source": [
    "# 参考 eval.py：如果没有 train/test/eval 划分，直接把 df_filtered_1020 当作 test 运行评估（分批预测，计算 acc / weighted F1 / hit@k，并保存结果）\n",
    "import os, glob, math\n",
    "from tqdm import tqdm\n",
    "from sklearn.metrics import accuracy_score, f1_score\n",
    "import pandas as pd\n",
    "import numpy as np\n",
    "\n",
    "# try load filtered df (the one we saved earlier)\n",
    "filtered_path = os.path.join('..','output','df_filtered_data1020_34.csv')\n",
    "\n",
    "df_test = pd.read_csv(filtered_path)\n",
    "print(\"Loaded test file:\", filtered_path, \"rows:\", len(df_test))\n",
    "\n",
    "# prepare true label for each row: 优先 extern_id，其次尝试 linked_items / linked_parsed 的首个元素\n",
    "def pick_true_label(row):\n",
    "    if 'extern_id' in row and pd.notna(row.get('extern_id')) and str(row.get('extern_id')).strip() != '':\n",
    "        return str(row.get('extern_id')).strip()\n",
    "    # try linked_parsed -> linked_items which may be list-string\n",
    "    if 'linked_parsed' in row and isinstance(row.get('linked_parsed'), str):\n",
    "        # in some cases linked_parsed saved as \"['123']\" string, try ast\n",
    "        try:\n",
    "            import ast\n",
    "            v = ast.literal_eval(row.get('linked_parsed'))\n",
    "            if isinstance(v, (list,tuple)) and len(v)>0:\n",
    "                return str(v[0])\n",
    "        except Exception:\n",
    "            pass\n",
    "    for col in ('linked_parsed','linked_items'):\n",
    "        val = row.get(col)\n",
    "        if isinstance(val, list) and val:\n",
    "            return str(val[0])\n",
    "        if pd.notna(val) and isinstance(val, str):\n",
    "            # try parse simple list-string like \"['1','2']\" or \"[123]\"\n",
    "            try:\n",
    "                import ast\n",
    "                v = ast.literal_eval(val)\n",
    "                if isinstance(v, (list,tuple)) and v:\n",
    "                    return str(v[0])\n",
    "            except Exception:\n",
    "                # fallback: use token extraction\n",
    "                import re\n",
    "                m = re.findall(r\"[0-9A-Za-z_]+\", val)\n",
    "                if m:\n",
    "                    return str(m[0])\n",
    "    return ''  # unknown / empty\n",
    "\n",
    "df_test['true_label'] = df_test.apply(pick_true_label, axis=1)\n",
    "print(\"Samples with non-empty true_label:\", (df_test['true_label'] != '').sum(), \"/\", len(df_test))\n",
    "\n",
    "# choose features to pass to predict; predict() in this repo expects DataFrame with case_title/performed_work (it can accept full rows)\n",
    "X_cols = []\n",
    "for c in ('case_title','performed_work'):\n",
    "    if c in df_test.columns:\n",
    "        X_cols.append(c)\n",
    "# if no known text columns, pass full frame\n",
    "if not X_cols:\n",
    "    X_df = df_test.copy()\n",
    "else:\n",
    "    X_df = df_test[X_cols].copy()\n",
    "\n",
    "# select model path (prefer model_best.joblib)\n",
    "model_best = os.path.join('..','output','model_best.joblib')\n",
    "model_path = None\n",
    "if os.path.exists(model_best):\n",
    "    model_path = model_best\n",
    "else:\n",
    "    cand = sorted(glob.glob(os.path.join('..','output','model_*.joblib')))\n",
    "    if cand:\n",
    "        model_path = cand[0]\n",
    "if model_path is None:\n",
    "    raise FileNotFoundError(\"未找到模型文件 (../output/model_best.joblib 或 ../output/model_*.joblib)\")\n",
    "\n",
    "print(\"Using model:\", model_path)\n",
    "\n",
    "# batch predict to avoid一次性内存峰值\n",
    "batch_size = 256\n",
    "n = len(X_df)\n",
    "results = []\n",
    "for i in tqdm(range(0, n, batch_size), desc=\"Predict batches\"):\n",
    "    batch = X_df.iloc[i: i+batch_size]\n",
    "    try:\n",
    "        res_batch = predict(batch, model_path=model_path, top_k=10)\n",
    "    except TypeError:\n",
    "        # some predict implementations accept (X, top_k=...) and model loaded internally; try without model_path\n",
    "        res_batch = predict(batch, top_k=10)\n",
    "    # ensure list-like\n",
    "    if isinstance(res_batch, dict):\n",
    "        # single sample dict? wrap\n",
    "        res_batch = [res_batch]\n",
    "    results.extend(res_batch)\n",
    "\n",
    "# normalize results and build dataframe of predictions\n",
    "rows = []\n",
    "for idx, r in enumerate(results):\n",
    "    row_idx = idx  # corresponds to df_test.iloc[idx]\n",
    "    # handle different result formats\n",
    "    if isinstance(r, dict):\n",
    "        preds = r.get('preds') or r.get('labels') or []\n",
    "        scores = r.get('scores') or r.get('probs') or []\n",
    "    elif isinstance(r, (list,tuple)) and len(r)>=1:\n",
    "        preds = r[0] if isinstance(r[0], list) else r\n",
    "        scores = r[1] if len(r)>1 else []\n",
    "    else:\n",
    "        preds = []\n",
    "        scores = []\n",
    "    # coerce preds->list of str\n",
    "    preds = [str(x) for x in (preds or [])]\n",
    "    scores = [float(x) for x in (scores or [])[:len(preds)]]\n",
    "    true = str(df_test.iloc[row_idx]['true_label']) if pd.notna(df_test.iloc[row_idx].get('true_label')) else ''\n",
    "    top1 = preds[0] if preds else ''\n",
    "    hit1 = int(true != '' and top1 == true)\n",
    "    hit3 = int(true != '' and true in preds[:3])\n",
    "    hit5 = int(true != '' and true in preds[:5])\n",
    "    hit10 = int(true != '' and true in preds[:10])\n",
    "    rows.append({\n",
    "        'index': df_test.index[row_idx],\n",
    "        'extern_id': df_test.iloc[row_idx].get('extern_id') if 'extern_id' in df_test.columns else None,\n",
    "        'case_id': df_test.iloc[row_idx].get('case_id') if 'case_id' in df_test.columns else None,\n",
    "        'true_label': true,\n",
    "        'pred_top1': top1,\n",
    "        'preds_top10': \"|\".join(preds),\n",
    "        'scores_top10': \"|\".join(f\"{s:.4f}\" for s in scores),\n",
    "        'hit@1': hit1,\n",
    "        'hit@3': hit3,\n",
    "        'hit@5': hit5,\n",
    "        'hit@10': hit10\n",
    "    })\n",
    "\n",
    "pred_df = pd.DataFrame(rows)\n",
    "\n",
    "# metrics (only on samples with non-empty true_label)\n",
    "valid = pred_df[pred_df['true_label'].astype(str) != '']\n",
    "y_true = valid['true_label'].tolist()\n",
    "y_pred_top1 = valid['pred_top1'].tolist()\n",
    "\n",
    "acc = accuracy_score(y_true, y_pred_top1) if len(y_true)>0 else float('nan')\n",
    "try:\n",
    "    f1_w = f1_score(y_true, y_pred_top1, average='weighted') if len(y_true)>0 else float('nan')\n",
    "except Exception as e:\n",
    "    # if f1 fails (e.g. single class), fallback to 0 or nan\n",
    "    print(\"计算 weighted F1 失败：\", e)\n",
    "    f1_w = float('nan')\n",
    "\n",
    "hit1 = pred_df['hit@1'].mean() if len(pred_df)>0 else float('nan')\n",
    "hit3 = pred_df['hit@3'].mean() if len(pred_df)>0 else float('nan')\n",
    "hit5 = pred_df['hit@5'].mean() if len(pred_df)>0 else float('nan')\n",
    "hit10 = pred_df['hit@10'].mean() if len(pred_df)>0 else float('nan')\n",
    "\n",
    "print(f\"\\nMetrics on df_filtered test (n={len(pred_df)} samples, valid true labels={len(valid)}):\")\n",
    "print(f\"  Accuracy (top1): {acc:.6f}\")\n",
    "print(f\"  Weighted F1 (top1): {f1_w:.6f}\")\n",
    "print(f\"  hit@1: {hit1:.6f}, hit@3: {hit3:.6f}, hit@5: {hit5:.6f}, hit@10: {hit10:.6f}\")\n",
    "\n",
    "# 保存预测结果\n",
    "os.makedirs(os.path.join('..','output'), exist_ok=True)\n",
    "out_path = os.path.join('..','output','predictions_df_filtered_1020.csv')\n",
    "pred_df.to_csv(out_path, index=False, encoding='utf-8-sig')\n",
    "print(\"Predictions saved to:\", out_path)\n",
    "# ...existing code..."
   ]
  },
  {
   "cell_type": "code",
   "execution_count": 15,
   "id": "d32a8310",
   "metadata": {},
   "outputs": [],
   "source": [
    "df_filtered_1017 = pd.read_csv(\"../output/df_filtered_1020_5.csv\")\n",
    "df_filtered_1020 = pd.read_csv(\"../output/df_filtered_1020_34.csv\")"
   ]
  },
  {
   "cell_type": "code",
   "execution_count": 16,
   "id": "48cd662b",
   "metadata": {},
   "outputs": [
    {
     "data": {
      "text/plain": [
       "(99, 98)"
      ]
     },
     "execution_count": 16,
     "metadata": {},
     "output_type": "execute_result"
    }
   ],
   "source": [
    "len(df_filtered_1017[\"linked_items\"].unique()),len(df_filtered_1020[\"linked_items\"].unique())"
   ]
  },
  {
   "cell_type": "code",
   "execution_count": 17,
   "id": "81229f62",
   "metadata": {},
   "outputs": [
    {
     "data": {
      "text/plain": [
       "array([50174, 50308, 50019, 49661, 49691, 49812, 50862, 49747, 50380,\n",
       "       50097, 49686, 50769, 50675, 50910, 50230, 49971, 28104, 50883,\n",
       "       50385, 50349, 50822, 50391, 50710, 50785, 49690, 50585, 50584,\n",
       "       49810, 50664, 50264, 49592, 50307, 49688, 49721, 50142, 50774,\n",
       "       50879, 50682, 50172, 49642, 49948, 50280, 49545, 49669, 49980,\n",
       "       49939, 50467, 50723, 50148, 49544, 50265, 49856, 49811, 49782,\n",
       "       49626, 49582, 49813, 50765, 50382, 50316, 49938, 49937, 50907,\n",
       "       50666, 50401, 50358, 50776, 49970, 49684, 49729, 49828, 49854,\n",
       "       50859, 50356, 48742, 50413, 50616, 49105, 50339, 50634, 49692,\n",
       "       39899, 50159, 50116, 49716, 19116, 50683, 50620, 50818, 50712,\n",
       "       50417, 49658, 50150, 50309, 50782, 50621, 50892, 49965, 50141])"
      ]
     },
     "execution_count": 17,
     "metadata": {},
     "output_type": "execute_result"
    }
   ],
   "source": [
    "df_filtered_1017[\"linked_items\"].unique()"
   ]
  },
  {
   "cell_type": "code",
   "execution_count": 18,
   "id": "94a017dd",
   "metadata": {},
   "outputs": [
    {
     "data": {
      "text/plain": [
       "array([47899, 48349, 48684, 44742, 48474, 49340, 49178, 48734, 40970,\n",
       "       48521, 48327, 48742, 48901, 50385, 48813, 48137, 49136, 49041,\n",
       "       48219, 48058, 48602, 47898, 48304, 48313, 48380, 48224, 48376,\n",
       "       49346, 48717, 50339, 49105, 48170, 49049, 48268, 48303, 49177,\n",
       "       49117, 48816, 48926, 45096, 48345, 48618, 48874, 48451, 48060,\n",
       "       49390, 48524, 49337, 49077, 32030, 49076, 47975, 48763, 49082,\n",
       "       48472, 48894, 48964, 49214, 40309, 48563, 48932, 48183, 48725,\n",
       "       48771, 48715, 48876, 48945, 48438, 47917, 48804, 49142, 49115,\n",
       "       47952, 51636, 48302, 49336, 48714, 48528, 49147, 48809, 48479,\n",
       "       38988, 48520, 48764, 49396, 47902, 48423, 51915, 48355, 34303,\n",
       "       49215, 49256, 48408, 49307, 48897, 49004, 49317, 48488])"
      ]
     },
     "execution_count": 18,
     "metadata": {},
     "output_type": "execute_result"
    }
   ],
   "source": [
    "df_filtered_1020[\"linked_items\"].unique()"
   ]
  },
  {
   "cell_type": "code",
   "execution_count": 19,
   "id": "17923064",
   "metadata": {},
   "outputs": [
    {
     "name": "stdout",
     "output_type": "stream",
     "text": [
      "{'50142', '50097', '49810', '49970', '50019', '50712', '39899', '50822', '49688', '50349', '49938', '50309', '50782', '49812', '50307', '50664', '50769', '50265', '49854', '49828', '49661', '50683', '50148', '49856', '50417', '49965', '50172', '50380', '50280', '49686', '28104', '49692', '50818', '50666', '50391', '49811', '49684', '50879', '49729', '49939', '49544', '50358', '50862', '49582', '50859', '49669', '50620', '49813', '50174', '50585', '49545', '49105', '49971', '49626', '50159', '49716', '50401', '50316', '49642', '50723', '50634', '50230', '50883', '50413', '50621', '50150', '50765', '49721', '50774', '49937', '50785', '49948', '50385', '49691', '50892', '50141', '50116', '50616', '49658', '50682', '50264', '49690', '49980', '50308', '49747', '49592', '50356', '48742', '50467', '50710', '49782', '50382', '19116', '50339', '50910', '50776', '50907', '50584', '50675'}\n",
      "{'49390', '48472', '49041', '32030', '48528', '48524', '49256', '51636', '48058', '48345', '49215', '49214', '49337', '48423', '40970', '48408', '48874', '47899', '48714', '48602', '48876', '51915', '45096', '49076', '48313', '48932', '48268', '49177', '49336', '48521', '48327', '48763', '48438', '49105', '48060', '47898', '48380', '49115', '48964', '48816', '48804', '49049', '49142', '48376', '48302', '49340', '48355', '48926', '48563', '44742', '49117', '49178', '48451', '48901', '48137', '49004', '49136', '49317', '47952', '49346', '48725', '48219', '48717', '48349', '50385', '49077', '48764', '48303', '48304', '48894', '49082', '48715', '40309', '48520', '38988', '48479', '48224', '48684', '49307', '48618', '48945', '48474', '48813', '48771', '48809', '48897', '48742', '48734', '48488', '50339', '47902', '48183', '47975', '47917', '49147', '48170', '34303', '49396'}\n",
      "交集标签数: 4，示例前30个: ['48742', '49105', '50339', '50385']\n",
      "df_filtered_1020 中属于交集的行数： 86\n"
     ]
    }
   ],
   "source": [
    "# 统一为字符串再取集合（防止类型差异）\n",
    "set_1017 = set(df_filtered_1017[\"linked_items\"].astype(str).unique())\n",
    "set_1020 = set(df_filtered_1020[\"linked_items\"].astype(str).unique())\n",
    "print(set_1017)\n",
    "print(set_1020)\n",
    "\n",
    "common = sorted(set_1017 & set_1020)\n",
    "print(f\"交集标签数: {len(common)}，示例前30个: {common[:30]}\")\n",
    "\n",
    "# 过滤出新数据中属于交集的行\n",
    "df_common_rows = df_filtered_1020[df_filtered_1020[\"linked_items\"].astype(str).isin(common)].copy()\n",
    "print(\"df_filtered_1020 中属于交集的行数：\", len(df_common_rows))\n",
    "\n"
   ]
  },
  {
   "cell_type": "markdown",
   "id": "6e708130",
   "metadata": {},
   "source": [
    "两个数据集只有6个样本共5种标签有交集且这5个标签对应的样本量都小于5，以至于一开始被筛掉了，我们重新挑出来这5个标签的6个数据，重新调用predict看看效果"
   ]
  },
  {
   "cell_type": "code",
   "execution_count": 21,
   "id": "365f9133",
   "metadata": {},
   "outputs": [
    {
     "name": "stdout",
     "output_type": "stream",
     "text": [
      "交集标签（count）: 4 ['48742', '49105', '50339', '50385']\n"
     ]
    }
   ],
   "source": [
    "# 两个数据集只有6个样本共5种标签有交集且这5个标签对应的样本量都小于5，以至于一开始被筛掉了，我们重新挑出来这5个标签的6个数据，重新调用predict看看效果\n",
    "import os, glob, ast, re\n",
    "import pandas as pd\n",
    "from sklearn.metrics import accuracy_score, f1_score\n",
    "\n",
    "a = df_filtered_1017\n",
    "b = df_filtered_1020\n",
    "\n",
    "# 统一把 linked_items 解析成 list（若已经是 list 则保持）\n",
    "def parse_linked(x):\n",
    "    if pd.isna(x): \n",
    "        return []\n",
    "    if isinstance(x, list):\n",
    "        return x\n",
    "    if isinstance(x, str):\n",
    "        # 尝试 ast 解析 '[...]'，否则按非字母数字下划线分割取 tokens\n",
    "        try:\n",
    "            v = ast.literal_eval(x)\n",
    "            if isinstance(v, (list,tuple)):\n",
    "                return [str(i) for i in v]\n",
    "            return [str(v)]\n",
    "        except Exception:\n",
    "            tokens = re.findall(r\"[0-9A-Za-z_]+\", x)\n",
    "            return [t for t in tokens] if tokens else [x.strip()]\n",
    "    return [str(x)]\n",
    "\n",
    "a['linked_items_parsed'] = a['linked_items'].apply(parse_linked)\n",
    "b['linked_items_parsed'] = b['linked_items'].apply(parse_linked)\n",
    "\n",
    "set_a = set([str(x) for sub in a['linked_items_parsed'] for x in sub])\n",
    "set_b = set([str(x) for sub in b['linked_items_parsed'] for x in sub])\n",
    "common = sorted(list(set_a & set_b))\n",
    "print(\"交集标签（count）:\", len(common), common)\n",
    "\n",
    "# 过滤出新数据中属于交集的行\n",
    "def has_common(row):\n",
    "    return any(str(x) in common for x in row.get('linked_items_parsed', []))\n",
    "\n",
    "df_common_rows = b[b.apply(has_common, axis=1)].copy()\n",
    "df_common_rows.to_csv(\"../output/common_34_56.csv\")\n"
   ]
  },
  {
   "cell_type": "code",
   "execution_count": 122,
   "id": "5c7d4597",
   "metadata": {},
   "outputs": [
    {
     "data": {
      "text/plain": [
       "linked_items\n",
       "50174    261\n",
       "50822    251\n",
       "50385    145\n",
       "50159     77\n",
       "50785     77\n",
       "        ... \n",
       "3940       1\n",
       "52012      1\n",
       "25744      1\n",
       "50028      1\n",
       "36013      1\n",
       "Name: count, Length: 288, dtype: int64"
      ]
     },
     "execution_count": 122,
     "metadata": {},
     "output_type": "execute_result"
    }
   ],
   "source": [
    "df_filtered_1020[\"linked_items\"].value_counts()"
   ]
  },
  {
   "cell_type": "code",
   "execution_count": 123,
   "id": "f59a9088",
   "metadata": {},
   "outputs": [
    {
     "name": "stdout",
     "output_type": "stream",
     "text": [
      "    linked_items  case_count\n",
      "16         24997           1\n",
      "17         25744           1\n",
      "19         31336           1\n",
      "22         33697           1\n",
      "23         34303           1\n",
      "24         35595           1\n",
      "25         35596           1\n",
      "26         36013           1\n",
      "27         36359           1\n",
      "28         37666           1\n"
     ]
    }
   ],
   "source": [
    "# 如果 linked_items 是列表，要先展开\n",
    "import pandas as pd\n",
    "import numpy as np\n",
    "\n",
    "# 若 linked_items 是 list 或 \"[...]\" 字符串，先转\n",
    "def to_list(x):\n",
    "    if isinstance(x, list): return x\n",
    "    if pd.isna(x): return []\n",
    "    try:\n",
    "        return eval(x)\n",
    "    except:\n",
    "        return [x]\n",
    "\n",
    "df_filtered_1020[\"linked_items\"] = df_filtered_1020[\"linked_items\"].apply(to_list)\n",
    "\n",
    "# 展开一对多\n",
    "df_exploded = df_filtered_1020.explode(\"linked_items\")\n",
    "\n",
    "# 统计每个 item 对应的 case_id 数\n",
    "item_case_stats = (\n",
    "    df_exploded.groupby(\"linked_items\")[\"case_id\"]\n",
    "    .nunique()\n",
    "    .reset_index(name=\"case_count\")\n",
    "    .sort_values(\"case_count\", ascending=True)\n",
    ")\n",
    "\n",
    "print(item_case_stats.head(10))\n"
   ]
  },
  {
   "cell_type": "code",
   "execution_count": 128,
   "id": "17c91c27",
   "metadata": {},
   "outputs": [
    {
     "data": {
      "image/png": "[encoded data removed]",
      "text/plain": [
       "<Figure size 1400x600 with 1 Axes>"
      ]
     },
     "metadata": {},
     "output_type": "display_data"
    }
   ],
   "source": [
    "# 画出item_case_stats的分布柱状图，表上每个柱子有对应几个数据\n",
    "import matplotlib.pyplot as plt\n",
    "import pandas as pd\n",
    "\n",
    "top_n = len(df_filtered_1020[\"linked_items\"].value_counts())\n",
    "data = item_case_stats.head(top_n)\n",
    "\n",
    "plt.figure(figsize=(14, 6))\n",
    "bars = plt.bar(range(len(data)), data[\"case_count\"], tick_label=data[\"linked_items\"])\n",
    "\n",
    "# 在柱子顶部标注数值\n",
    "for bar in bars:\n",
    "    height = bar.get_height()\n",
    "    plt.text(\n",
    "        bar.get_x() + bar.get_width() / 2,\n",
    "        height + 0.5,  # 数值显示在柱顶略高处\n",
    "        str(int(height)),\n",
    "        ha=\"center\",\n",
    "        va=\"bottom\",\n",
    "        fontsize=9\n",
    "    )\n",
    "\n",
    "plt.xticks(rotation=75, ha=\"right\")\n",
    "plt.title(f\"Top {top_n} linked_items & case_id number\")\n",
    "plt.xlabel(\"linked_items\")\n",
    "plt.ylabel(\"case_id number\")\n",
    "plt.tight_layout()\n",
    "plt.show()\n"
   ]
  },
  {
   "cell_type": "markdown",
   "id": "e48963da",
   "metadata": {},
   "source": [
    "在5，6月份的数据上重新训练并预测，看看效果"
   ]
  },
  {
   "cell_type": "markdown",
   "id": "e3e34c13",
   "metadata": {},
   "source": [
    "```log\n",
    "PS C:\\Users\\ux018677\\Downloads\\BMW-item> python .\\src\\eval.py\n",
    "[All train]\n",
    "acc=0.950 | f1_macro=0.923 | hit@1=0.950 | hit@3=0.994 | hit@5=0.996 | hit@10=0.998\n",
    "[All val]\n",
    "acc=0.893 | f1_macro=0.892 | hit@1=0.893 | hit@3=0.966 | hit@5=0.974 | hit@10=0.984\n",
    "[All test]\n",
    "acc=0.891 | f1_macro=0.891 | hit@1=0.891 | hit@3=0.964 | hit@5=0.972 | hit@10=0.984\n",
    "```"
   ]
  },
  {
   "cell_type": "code",
   "execution_count": null,
   "id": "657705e7",
   "metadata": {},
   "outputs": [],
   "source": []
  }
 ],
 "metadata": {
  "kernelspec": {
   "display_name": "beacon",
   "language": "python",
   "name": "python3"
  },
  "language_info": {
   "codemirror_mode": {
    "name": "ipython",
    "version": 3
   },
   "file_extension": ".py",
   "mimetype": "text/x-python",
   "name": "python",
   "nbconvert_exporter": "python",
   "pygments_lexer": "ipython3",
   "version": "3.13.7"
  }
 },
 "nbformat": 4,
 "nbformat_minor": 5
}
